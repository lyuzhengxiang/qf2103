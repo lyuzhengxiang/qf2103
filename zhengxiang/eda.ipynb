{
 "cells": [
  {
   "cell_type": "code",
   "execution_count": 145,
   "metadata": {},
   "outputs": [],
   "source": [
    "import numpy as np\n",
    "import pandas as pd\n",
    "#2 (Zhengxiang)\n",
    "#JNJ Johnson & Johnson Healthcare\n",
    "#PFE Pzer Inc. Pharmaceuticals\n",
    "#UNH UnitedHealth Group Incorporated Healthcare\n",
    "#XOM Exxon Mobil Corporation Energy\n",
    "#CVX Chevron Corporation Energy\n"
   ]
  },
  {
   "cell_type": "code",
   "execution_count": 146,
   "metadata": {},
   "outputs": [],
   "source": [
    "wholestock = pd.read_csv('Trading_Project_Data.csv',index_col=0)\n",
    "\n",
    "\n",
    "\n"
   ]
  },
  {
   "cell_type": "code",
   "execution_count": 147,
   "metadata": {},
   "outputs": [
    {
     "data": {
      "text/plain": [
       "Close               AAPL\n",
       "Close.1             AMZN\n",
       "Close.2               BA\n",
       "Close.3              CAT\n",
       "Close.4              CVX\n",
       "Close.5            GOOGL\n",
       "Close.6               GS\n",
       "Close.7              JNJ\n",
       "Close.8              JPM\n",
       "Close.9               KO\n",
       "Close.10             MCD\n",
       "Close.11            MSFT\n",
       "Close.12             NKE\n",
       "Close.13            NVDA\n",
       "Close.14             PFE\n",
       "Close.15            SOFI\n",
       "Close.16            TSLA\n",
       "Close.17             UNH\n",
       "Close.18             WMT\n",
       "Close.19             XOM\n",
       "Dividends           AAPL\n",
       "Dividends.1         AMZN\n",
       "Dividends.2           BA\n",
       "Dividends.3          CAT\n",
       "Dividends.4          CVX\n",
       "Dividends.5        GOOGL\n",
       "Dividends.6           GS\n",
       "Dividends.7          JNJ\n",
       "Dividends.8          JPM\n",
       "Dividends.9           KO\n",
       "Dividends.10         MCD\n",
       "Dividends.11        MSFT\n",
       "Dividends.12         NKE\n",
       "Dividends.13        NVDA\n",
       "Dividends.14         PFE\n",
       "Dividends.15        SOFI\n",
       "Dividends.16        TSLA\n",
       "Dividends.17         UNH\n",
       "Dividends.18         WMT\n",
       "Dividends.19         XOM\n",
       "High                AAPL\n",
       "High.1              AMZN\n",
       "High.2                BA\n",
       "High.3               CAT\n",
       "High.4               CVX\n",
       "High.5             GOOGL\n",
       "High.6                GS\n",
       "High.7               JNJ\n",
       "High.8               JPM\n",
       "High.9                KO\n",
       "High.10              MCD\n",
       "High.11             MSFT\n",
       "High.12              NKE\n",
       "High.13             NVDA\n",
       "High.14              PFE\n",
       "High.15             SOFI\n",
       "High.16             TSLA\n",
       "High.17              UNH\n",
       "High.18              WMT\n",
       "High.19              XOM\n",
       "Low                 AAPL\n",
       "Low.1               AMZN\n",
       "Low.2                 BA\n",
       "Low.3                CAT\n",
       "Low.4                CVX\n",
       "Low.5              GOOGL\n",
       "Low.6                 GS\n",
       "Low.7                JNJ\n",
       "Low.8                JPM\n",
       "Low.9                 KO\n",
       "Low.10               MCD\n",
       "Low.11              MSFT\n",
       "Low.12               NKE\n",
       "Low.13              NVDA\n",
       "Low.14               PFE\n",
       "Low.15              SOFI\n",
       "Low.16              TSLA\n",
       "Low.17               UNH\n",
       "Low.18               WMT\n",
       "Low.19               XOM\n",
       "Open                AAPL\n",
       "Open.1              AMZN\n",
       "Open.2                BA\n",
       "Open.3               CAT\n",
       "Open.4               CVX\n",
       "Open.5             GOOGL\n",
       "Open.6                GS\n",
       "Open.7               JNJ\n",
       "Open.8               JPM\n",
       "Open.9                KO\n",
       "Open.10              MCD\n",
       "Open.11             MSFT\n",
       "Open.12              NKE\n",
       "Open.13             NVDA\n",
       "Open.14              PFE\n",
       "Open.15             SOFI\n",
       "Open.16             TSLA\n",
       "Open.17              UNH\n",
       "Open.18              WMT\n",
       "Open.19              XOM\n",
       "Stock Splits        AAPL\n",
       "Stock Splits.1      AMZN\n",
       "Stock Splits.2        BA\n",
       "Stock Splits.3       CAT\n",
       "Stock Splits.4       CVX\n",
       "Stock Splits.5     GOOGL\n",
       "Stock Splits.6        GS\n",
       "Stock Splits.7       JNJ\n",
       "Stock Splits.8       JPM\n",
       "Stock Splits.9        KO\n",
       "Stock Splits.10      MCD\n",
       "Stock Splits.11     MSFT\n",
       "Stock Splits.12      NKE\n",
       "Stock Splits.13     NVDA\n",
       "Stock Splits.14      PFE\n",
       "Stock Splits.15     SOFI\n",
       "Stock Splits.16     TSLA\n",
       "Stock Splits.17      UNH\n",
       "Stock Splits.18      WMT\n",
       "Stock Splits.19      XOM\n",
       "Volume              AAPL\n",
       "Volume.1            AMZN\n",
       "Volume.2              BA\n",
       "Volume.3             CAT\n",
       "Volume.4             CVX\n",
       "Volume.5           GOOGL\n",
       "Volume.6              GS\n",
       "Volume.7             JNJ\n",
       "Volume.8             JPM\n",
       "Volume.9              KO\n",
       "Volume.10            MCD\n",
       "Volume.11           MSFT\n",
       "Volume.12            NKE\n",
       "Volume.13           NVDA\n",
       "Volume.14            PFE\n",
       "Volume.15           SOFI\n",
       "Volume.16           TSLA\n",
       "Volume.17            UNH\n",
       "Volume.18            WMT\n",
       "Volume.19            XOM\n",
       "Name: Ticker, dtype: object"
      ]
     },
     "execution_count": 147,
     "metadata": {},
     "output_type": "execute_result"
    }
   ],
   "source": [
    "wholestock.iloc[0]"
   ]
  },
  {
   "cell_type": "code",
   "execution_count": 148,
   "metadata": {},
   "outputs": [
    {
     "data": {
      "text/html": [
       "<div>\n",
       "<style scoped>\n",
       "    .dataframe tbody tr th:only-of-type {\n",
       "        vertical-align: middle;\n",
       "    }\n",
       "\n",
       "    .dataframe tbody tr th {\n",
       "        vertical-align: top;\n",
       "    }\n",
       "\n",
       "    .dataframe thead th {\n",
       "        text-align: right;\n",
       "    }\n",
       "</style>\n",
       "<table border=\"1\" class=\"dataframe\">\n",
       "  <thead>\n",
       "    <tr style=\"text-align: right;\">\n",
       "      <th></th>\n",
       "      <th>Close.7</th>\n",
       "      <th>Dividends.7</th>\n",
       "      <th>High.7</th>\n",
       "      <th>Low.7</th>\n",
       "      <th>Open.7</th>\n",
       "      <th>Stock Splits.7</th>\n",
       "      <th>Volume.7</th>\n",
       "    </tr>\n",
       "    <tr>\n",
       "      <th>Price</th>\n",
       "      <th></th>\n",
       "      <th></th>\n",
       "      <th></th>\n",
       "      <th></th>\n",
       "      <th></th>\n",
       "      <th></th>\n",
       "      <th></th>\n",
       "    </tr>\n",
       "  </thead>\n",
       "  <tbody>\n",
       "    <tr>\n",
       "      <th>Ticker</th>\n",
       "      <td>JNJ</td>\n",
       "      <td>JNJ</td>\n",
       "      <td>JNJ</td>\n",
       "      <td>JNJ</td>\n",
       "      <td>JNJ</td>\n",
       "      <td>JNJ</td>\n",
       "      <td>JNJ</td>\n",
       "    </tr>\n",
       "    <tr>\n",
       "      <th>Date</th>\n",
       "      <td>NaN</td>\n",
       "      <td>NaN</td>\n",
       "      <td>NaN</td>\n",
       "      <td>NaN</td>\n",
       "      <td>NaN</td>\n",
       "      <td>NaN</td>\n",
       "      <td>NaN</td>\n",
       "    </tr>\n",
       "    <tr>\n",
       "      <th>22/1/2024</th>\n",
       "      <td>157.4842072</td>\n",
       "      <td>0</td>\n",
       "      <td>158.5601446</td>\n",
       "      <td>156.3888793</td>\n",
       "      <td>157.0286291</td>\n",
       "      <td>0</td>\n",
       "      <td>6824200</td>\n",
       "    </tr>\n",
       "    <tr>\n",
       "      <th>23/1/2024</th>\n",
       "      <td>154.905838</td>\n",
       "      <td>0</td>\n",
       "      <td>155.5843538</td>\n",
       "      <td>152.0948375</td>\n",
       "      <td>154.760447</td>\n",
       "      <td>0</td>\n",
       "      <td>9149800</td>\n",
       "    </tr>\n",
       "    <tr>\n",
       "      <th>24/1/2024</th>\n",
       "      <td>154.0819397</td>\n",
       "      <td>0</td>\n",
       "      <td>155.6716118</td>\n",
       "      <td>153.3064866</td>\n",
       "      <td>154.8476902</td>\n",
       "      <td>0</td>\n",
       "      <td>7247900</td>\n",
       "    </tr>\n",
       "  </tbody>\n",
       "</table>\n",
       "</div>"
      ],
      "text/plain": [
       "               Close.7 Dividends.7       High.7        Low.7       Open.7 Stock Splits.7 Volume.7\n",
       "Price                                                                                            \n",
       "Ticker             JNJ         JNJ          JNJ          JNJ          JNJ            JNJ      JNJ\n",
       "Date               NaN         NaN          NaN          NaN          NaN            NaN      NaN\n",
       "22/1/2024  157.4842072           0  158.5601446  156.3888793  157.0286291              0  6824200\n",
       "23/1/2024   154.905838           0  155.5843538  152.0948375   154.760447              0  9149800\n",
       "24/1/2024  154.0819397           0  155.6716118  153.3064866  154.8476902              0  7247900"
      ]
     },
     "execution_count": 148,
     "metadata": {},
     "output_type": "execute_result"
    }
   ],
   "source": [
    "def create_new_df(df, stock):\n",
    "    ticker_row = df.iloc[0]\n",
    "    matching_cols = ticker_row[ticker_row == stock].index.tolist()\n",
    "    new_df = df[matching_cols]\n",
    "    return new_df\n",
    "\n",
    "jnj = create_new_df(wholestock, 'JNJ')\n",
    "jnj.head()\n",
    "\n",
    "    \n"
   ]
  },
  {
   "cell_type": "code",
   "execution_count": 149,
   "metadata": {},
   "outputs": [
    {
     "name": "stdout",
     "output_type": "stream",
     "text": [
      "              Close.7 Dividends.7       High.7        Low.7       Open.7 Stock Splits.7 Volume.7  log_return  direction     lag_1     lag_2     lag_3\n",
      "Date                                                                                                                                                 \n",
      "25/1/2024  154.663498           0  154.7216543  153.6069509  154.1206853              0  5478900    0.003767        1.0 -0.005333 -0.016508  0.000000\n",
      "26/1/2024  154.605347           0  155.8072995  154.4696435  155.5068002              0  5591900   -0.000376       -1.0  0.003767 -0.005333 -0.016508\n",
      "29/1/2024  154.469650           0  155.1578687  154.0819312   154.130385              0  6483200   -0.000878       -1.0 -0.000376  0.003767 -0.005333\n",
      "30/1/2024  153.897751           0  154.8573608  153.2773914  154.4599539              0  7200500   -0.003709       -1.0 -0.000878 -0.000376  0.003767\n",
      "31/1/2024  154.023743           0  155.6909613   153.800805  155.4777114              0  8256800    0.000818        1.0 -0.003709 -0.000878 -0.000376\n"
     ]
    }
   ],
   "source": [
    "def clean_new_df(df):\n",
    "    df = df.drop(jnj.index[0:2])\n",
    "    df.index.name = 'Date'\n",
    "    df['Close.7'] = pd.to_numeric(df['Close.7'], errors='coerce')\n",
    "    df = df.dropna(subset=['Close.7'])\n",
    "\n",
    "    df['log_return'] = np.log(df['Close.7'] / df['Close.7'].shift(1))\n",
    "    df['log_return'] = df['log_return'].fillna(0)\n",
    "    df['direction'] = np.sign(df['log_return'])\n",
    "    df['lag_1'] = df['log_return'].shift(1)\n",
    "    df['lag_2'] = df['log_return'].shift(2)\n",
    "    df['lag_3'] = df['log_return'].shift(3)\n",
    "    df.dropna(inplace=True)\n",
    "    return df\n",
    "\n",
    "jnj = clean_new_df(jnj)\n",
    "print(jnj.head().to_string())\n",
    "\n",
    "\n"
   ]
  },
  {
   "cell_type": "markdown",
   "metadata": {},
   "source": [
    "Algo 1:Deep Learning"
   ]
  },
  {
   "cell_type": "code",
   "execution_count": 150,
   "metadata": {},
   "outputs": [
    {
     "name": "stdout",
     "output_type": "stream",
     "text": [
      "Final Gain:  0.9332562065972647\n",
      "Market Gain: 0.9332562065972647\n"
     ]
    }
   ],
   "source": [
    "from sklearn.neural_network import MLPClassifier\n",
    "from sklearn.model_selection import train_test_split\n",
    "from sklearn.metrics import classification_report\n",
    "\n",
    "model = MLPClassifier(hidden_layer_sizes = 2 * [75], max_iter = 2000,random_state=42)\n",
    "train = jnj.loc['25/1/2024':'1/3/2024']\n",
    "test = jnj.loc['4/3/2024':].copy()\n",
    "x_train = train[['lag_1','lag_2','lag_3']]\n",
    "y_train = train['direction']\n",
    "x_test = test[['lag_1','lag_2','lag_3']]\n",
    "y_test = test['direction']\n",
    "model.fit(x_train, y_train)\n",
    "y_pred = model.predict(x_test)\n",
    "test['pred'] = y_pred\n",
    "\n",
    "test['strat'] = test['pred'] * test['log_return']\n",
    "test['cumulative_strat'] = test['strat'].cumsum()\n",
    "final_gain = np.exp(test['cumulative_strat'].iloc[-1])\n",
    "print(\"Final Gain: \", final_gain)\n",
    "test['market'] = test['log_return'].cumsum()\n",
    "final_market_gain = np.exp(test['market'].iloc[-1])\n",
    "print(\"Market Gain:\", final_market_gain)\n",
    "\n",
    "\n"
   ]
  },
  {
   "cell_type": "code",
   "execution_count": 151,
   "metadata": {},
   "outputs": [
    {
     "data": {
      "text/plain": [
       "np.False_"
      ]
     },
     "execution_count": 151,
     "metadata": {},
     "output_type": "execute_result"
    }
   ],
   "source": [
    "(test['pred'] == test['direction']).all()"
   ]
  },
  {
   "cell_type": "code",
   "execution_count": 152,
   "metadata": {},
   "outputs": [
    {
     "data": {
      "text/plain": [
       "pred\n",
       "1.0    220\n",
       "Name: count, dtype: int64"
      ]
     },
     "execution_count": 152,
     "metadata": {},
     "output_type": "execute_result"
    }
   ],
   "source": [
    "test['pred'].value_counts()"
   ]
  },
  {
   "cell_type": "code",
   "execution_count": 144,
   "metadata": {},
   "outputs": [
    {
     "data": {
      "text/plain": [
       "direction\n",
       " 1.0    13\n",
       "-1.0    13\n",
       "Name: count, dtype: int64"
      ]
     },
     "execution_count": 144,
     "metadata": {},
     "output_type": "execute_result"
    }
   ],
   "source": [
    "train['direction'].value_counts()"
   ]
  },
  {
   "cell_type": "markdown",
   "metadata": {},
   "source": [
    "Algo 2: SVM"
   ]
  },
  {
   "cell_type": "code",
   "execution_count": 155,
   "metadata": {},
   "outputs": [
    {
     "name": "stdout",
     "output_type": "stream",
     "text": [
      "Final Gain:  0.7787410075152574\n",
      "Market Gain: 0.9332562065972647\n"
     ]
    }
   ],
   "source": [
    "from sklearn.svm import SVC\n",
    "model = SVC(kernel = 'linear')\n",
    "model.fit(x_train, y_train)\n",
    "y_pred = model.predict(x_test)\n",
    "test['pred'] = y_pred\n",
    "test['strat'] = test['pred'] * test['log_return']\n",
    "test['cumulative_strat'] = test['strat'].cumsum()\n",
    "final_gain = np.exp(test['cumulative_strat'].iloc[-1])\n",
    "print(\"Final Gain: \", final_gain)\n",
    "test['market'] = test['log_return'].cumsum()\n",
    "final_market_gain = np.exp(test['market'].iloc[-1])\n",
    "print(\"Market Gain:\", final_market_gain)\n",
    "\n",
    "\n"
   ]
  },
  {
   "cell_type": "markdown",
   "metadata": {},
   "source": [
    "Algo3: Decision Tree"
   ]
  },
  {
   "cell_type": "code",
   "execution_count": 172,
   "metadata": {},
   "outputs": [
    {
     "name": "stdout",
     "output_type": "stream",
     "text": [
      "Final Gain:  0.9955418250760493\n",
      "Market Gain: 0.9332562065972647\n"
     ]
    }
   ],
   "source": [
    "from sklearn.tree import DecisionTreeClassifier\n",
    "model = DecisionTreeClassifier(max_depth=10)\n",
    "model.fit(x_train, y_train)\n",
    "y_pred = model.predict(x_test)\n",
    "test['pred'] = y_pred\n",
    "test['strat'] = test['pred'] * test['log_return']\n",
    "test['cumulative_strat'] = test['strat'].cumsum()\n",
    "final_gain = np.exp(test['cumulative_strat'].iloc[-1])\n",
    "print(\"Final Gain: \", final_gain)\n",
    "test['market'] = test['log_return'].cumsum()\n",
    "final_market_gain = np.exp(test['market'].iloc[-1])\n",
    "print(\"Market Gain:\", final_market_gain)\n"
   ]
  },
  {
   "cell_type": "markdown",
   "metadata": {},
   "source": [
    "Algo 4:Logistic regression"
   ]
  },
  {
   "cell_type": "code",
   "execution_count": 163,
   "metadata": {},
   "outputs": [
    {
     "name": "stdout",
     "output_type": "stream",
     "text": [
      "Final Gain:  0.8453321559726146\n",
      "Market Gain: 0.9332562065972647\n"
     ]
    }
   ],
   "source": [
    "from sklearn.linear_model import LogisticRegression\n",
    "model = LogisticRegression()\n",
    "model.fit(x_train, y_train)\n",
    "y_pred = model.predict(x_test)\n",
    "test['pred'] = y_pred\n",
    "test['strat'] = test['pred'] * test['log_return']\n",
    "test['cumulative_strat'] = test['strat'].cumsum()\n",
    "final_gain = np.exp(test['cumulative_strat'].iloc[-1])\n",
    "print(\"Final Gain: \", final_gain)\n",
    "test['market'] = test['log_return'].cumsum()\n",
    "final_market_gain = np.exp(test['market'].iloc[-1])\n",
    "print(\"Market Gain:\", final_market_gain)\n"
   ]
  },
  {
   "cell_type": "markdown",
   "metadata": {},
   "source": [
    "Conclusion: Decision tree is best"
   ]
  }
 ],
 "metadata": {
  "kernelspec": {
   "display_name": "Python 3",
   "language": "python",
   "name": "python3"
  },
  "language_info": {
   "codemirror_mode": {
    "name": "ipython",
    "version": 3
   },
   "file_extension": ".py",
   "mimetype": "text/x-python",
   "name": "python",
   "nbconvert_exporter": "python",
   "pygments_lexer": "ipython3",
   "version": "3.9.6"
  }
 },
 "nbformat": 4,
 "nbformat_minor": 2
}
